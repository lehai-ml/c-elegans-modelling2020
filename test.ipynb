{
 "nbformat": 4,
 "nbformat_minor": 2,
 "metadata": {
  "language_info": {
   "name": "python",
   "codemirror_mode": {
    "name": "ipython",
    "version": 3
   },
   "version": "3.6.8-final"
  },
  "orig_nbformat": 2,
  "file_extension": ".py",
  "mimetype": "text/x-python",
  "name": "python",
  "npconvert_exporter": "python",
  "pygments_lexer": "ipython3",
  "version": 3,
  "kernelspec": {
   "name": "python36864bitbaseconda47aedfaafb1f47b1b5ee44163cad2c00",
   "display_name": "Python 3.6.8 64-bit ('base': conda)"
  }
 },
 "cells": [
  {
   "cell_type": "code",
   "execution_count": 1,
   "metadata": {},
   "outputs": [],
   "source": [
    "import numpy as np\n",
    "import pandas as pd\n",
    "import matplotlib.pyplot as plt\n",
    "import sympy as sp\n",
    "from sympy.solvers import solve\n",
    "from sympy import symbols, Eq\n",
    "import elegansfunc as elegans\n",
    "\n",
    "\n",
    "dataset=pd.read_excel('./dataset.xlsx')\n",
    "\n",
    "by_15C=dataset[dataset['temperature']==15]\n",
    "by_20C=dataset[dataset['temperature']==20]\n",
    "by_25C=dataset[dataset['temperature']==25]"
   ]
  },
  {
   "cell_type": "code",
   "execution_count": 2,
   "metadata": {},
   "outputs": [],
   "source": [
    "neuron=elegans.define_model_interactions('nsm',TA2TN=1,TA2S=1,TA2DA=1,DA2TA=-1,DA2S=-1,DA2TN=-1,TN2S=1)"
   ]
  },
  {
   "cell_type": "code",
   "execution_count": 3,
   "metadata": {},
   "outputs": [
    {
     "data": {
      "text/html": "<div>\n<style scoped>\n    .dataframe tbody tr th:only-of-type {\n        vertical-align: middle;\n    }\n\n    .dataframe tbody tr th {\n        vertical-align: top;\n    }\n\n    .dataframe thead th {\n        text-align: right;\n    }\n</style>\n<table border=\"1\" class=\"dataframe\">\n  <thead>\n    <tr style=\"text-align: right;\">\n      <th></th>\n      <th>TAnsm</th>\n      <th>TNnsm</th>\n      <th>DAnsm</th>\n      <th>Snsm</th>\n    </tr>\n  </thead>\n  <tbody>\n    <tr>\n      <th>TAnsm</th>\n      <td>0</td>\n      <td>1</td>\n      <td>1</td>\n      <td>1</td>\n    </tr>\n    <tr>\n      <th>TNnsm</th>\n      <td>0</td>\n      <td>0</td>\n      <td>0</td>\n      <td>1</td>\n    </tr>\n    <tr>\n      <th>DAnsm</th>\n      <td>-1</td>\n      <td>-1</td>\n      <td>0</td>\n      <td>-1</td>\n    </tr>\n  </tbody>\n</table>\n</div>",
      "text/plain": "       TAnsm  TNnsm  DAnsm  Snsm\nTAnsm      0      1      1     1\nTNnsm      0      0      0     1\nDAnsm     -1     -1      0    -1"
     },
     "execution_count": 3,
     "metadata": {},
     "output_type": "execute_result"
    }
   ],
   "source": [
    "neuron"
   ]
  },
  {
   "cell_type": "code",
   "execution_count": 4,
   "metadata": {},
   "outputs": [],
   "source": [
    "neuron_temp=neuron.copy()"
   ]
  },
  {
   "cell_type": "code",
   "execution_count": 5,
   "metadata": {},
   "outputs": [],
   "source": [
    "S='S'+'nsm'\n",
    "neuron_temp.columns=neuron_temp.columns+('*ADF','*NSM','*ASI','')\n",
    "neuron_temp.index=neuron_temp.index+('*ADF','*NSM','*ASI')"
   ]
  },
  {
   "cell_type": "code",
   "execution_count": 6,
   "metadata": {},
   "outputs": [
    {
     "data": {
      "text/html": "<div>\n<style scoped>\n    .dataframe tbody tr th:only-of-type {\n        vertical-align: middle;\n    }\n\n    .dataframe tbody tr th {\n        vertical-align: top;\n    }\n\n    .dataframe thead th {\n        text-align: right;\n    }\n</style>\n<table border=\"1\" class=\"dataframe\">\n  <thead>\n    <tr style=\"text-align: right;\">\n      <th></th>\n      <th>TAnsm*ADF</th>\n      <th>TNnsm*NSM</th>\n      <th>DAnsm*ASI</th>\n      <th>Snsm</th>\n    </tr>\n  </thead>\n  <tbody>\n    <tr>\n      <th>TAnsm*ADF</th>\n      <td>0</td>\n      <td>1</td>\n      <td>1</td>\n      <td>1</td>\n    </tr>\n    <tr>\n      <th>TNnsm*NSM</th>\n      <td>0</td>\n      <td>0</td>\n      <td>0</td>\n      <td>1</td>\n    </tr>\n    <tr>\n      <th>DAnsm*ASI</th>\n      <td>-1</td>\n      <td>-1</td>\n      <td>0</td>\n      <td>-1</td>\n    </tr>\n  </tbody>\n</table>\n</div>",
      "text/plain": "           TAnsm*ADF  TNnsm*NSM  DAnsm*ASI  Snsm\nTAnsm*ADF          0          1          1     1\nTNnsm*NSM          0          0          0     1\nDAnsm*ASI         -1         -1          0    -1"
     },
     "execution_count": 6,
     "metadata": {},
     "output_type": "execute_result"
    }
   ],
   "source": [
    "neuron_temp"
   ]
  },
  {
   "cell_type": "code",
   "execution_count": 112,
   "metadata": {},
   "outputs": [],
   "source": [
    "interactions_name=list(neuron_temp.index)\n",
    "neuron_label='nsm'\n",
    "\n",
    "###activatory_interactions\n",
    "direct_activatory_interactions_to_cell=[interactions_name[i] for i in np.where(neuron_temp['S{}'.format(neuron_label)]==1)[0]] #anything that directly activate the cell\n",
    "\n",
    "indirect_activation_to_activatory_interactions_to_cell=[interactions_name[i] for n in direct_activatory_interactions_to_cell for i in np.where(neuron_temp[n]==1)[0]]#anything that activate the direct activation of the cell.\n",
    "\n",
    "indirect_inhibition_to_activatory_interactions_to_cell=dict()\n",
    "for n in direct_activatory_interactions_to_cell:\n",
    "    indirect_inhibition_to_activatory_interactions_to_cell[n]=[interactions_name[i] for i in np.where(neuron_temp[n]==-1)[0]]\n",
    "for i in indirect_inhibition_to_activatory_interactions_to_cell:\n",
    "    if len(indirect_inhibition_to_activatory_interactions_to_cell[i])==0:\n",
    "        indirect_inhibition_to_activatory_interactions_to_cell[i]='1'\n",
    "    else:\n",
    "        indirect_inhibition_to_activatory_interactions_to_cell[i]='('+'+'.join(['1']+indirect_inhibition_to_activatory_interactions_to_cell[i])+')'\n",
    "\n",
    "\n",
    "\n",
    "\n",
    "###inhibitory_interactions these will be all under the S\n",
    "direct_inhibitory_interactions_to_cell=[interactions_name[i] for i in np.where(neuron_temp['S{}'.format(neuron_label)]==-1)[0]]\n",
    "\n",
    "indirect_activation_to_inhibitory_interactions_to_cell=[interactions_name[i] for n in direct_inhibitory_interactions_to_cell for i in np.where(neuron_temp[n]==1)[0]]\n",
    "\n",
    "indirect_inhibition_to_inhibitory_interactions_to_cell=dict()\n",
    "for n in direct_inhibitory_interactions_to_cell:\n",
    "    indirect_inhibition_to_inhibitory_interactions_to_cell[n]=[interactions_name[i] for i in np.where(neuron_temp[n]==-1)[0]]\n",
    "for i in indirect_inhibition_to_inhibitory_interactions_to_cell:\n",
    "    if len(indirect_inhibition_to_inhibitory_interactions_to_cell[i])==0:\n",
    "        indirect_inhibition_to_inhibitory_interactions_to_cell[i]='1'\n",
    "    else:\n",
    "        indirect_inhibition_to_inhibitory_interactions_to_cell[i]='('+'+'.join(['1']+indirect_inhibition_to_inhibitory_interactions_to_cell[i])+')'\n",
    "\n",
    "\n",
    "\n",
    "\n",
    "\n",
    "###build term by term:\n",
    "#term Snsm:\n",
    "\n",
    "denominator_of_S=[]\n",
    "for i in list(indirect_inhibition_to_inhibitory_interactions_to_cell.keys()):\n",
    "    term='/'.join([i,list(indirect_inhibition_to_inhibitory_interactions_to_cell.values())[0]])\n",
    "    denominator_of_S.append(term)\n",
    "for i in indirect_activation_to_inhibitory_interactions_to_cell:\n",
    "    denominator_of_S.append(i)\n",
    "if denominator_of_S==[]:\n",
    "    denominator_of_S=['1']\n",
    "else:\n",
    "    denominator_of_S=['('+'+'.join(['1']+denominator_of_S)+')']\n",
    "S_term=['/'.join(['S{}'.format(neuron_label)]+denominator_of_S)]\n",
    "\n",
    "##term for direct activation of S:\n",
    "direct_activation_term=[]\n",
    "for i in list(indirect_inhibition_to_activatory_interactions_to_cell.keys()):\n",
    "    term='/'.join([i,list(indirect_inhibition_to_activatory_interactions_to_cell.values())[0]])\n",
    "    direct_activation_term.append(term)\n",
    "for i in indirect_activation_to_activatory_interactions_to_cell:\n",
    "    direct_activation_term.append(i)\n",
    "direct_activation_term=['+'.join(direct_activation_term)]\n",
    "\n",
    "\n",
    "equation='+'.join(S_term+direct_activation_term)+'-alpha*{}'.format(neuron_label.upper())\n",
    "\n",
    "\n",
    "\n"
   ]
  },
  {
   "cell_type": "code",
   "execution_count": 113,
   "metadata": {},
   "outputs": [
    {
     "data": {
      "text/plain": "'Snsm/(1+DAnsm*ASI/1+TAnsm*ADF)+TAnsm*ADF/(1+DAnsm*ASI)+TNnsm*NSM/(1+DAnsm*ASI)+TAnsm*ADF-alpha*NSM'"
     },
     "execution_count": 113,
     "metadata": {},
     "output_type": "execute_result"
    }
   ],
   "source": [
    "\n",
    "equation"
   ]
  },
  {
   "cell_type": "code",
   "execution_count": 103,
   "metadata": {},
   "outputs": [
    {
     "data": {
      "text/plain": "['alpha*NSM']"
     },
     "execution_count": 103,
     "metadata": {},
     "output_type": "execute_result"
    }
   ],
   "source": [
    "degradation_term"
   ]
  },
  {
   "cell_type": "code",
   "execution_count": 111,
   "metadata": {},
   "outputs": [],
   "source": [
    "direct_activation_term=[]"
   ]
  },
  {
   "cell_type": "code",
   "execution_count": null,
   "metadata": {},
   "outputs": [],
   "source": []
  },
  {
   "cell_type": "code",
   "execution_count": 97,
   "metadata": {},
   "outputs": [
    {
     "data": {
      "text/plain": "['TAnsm*ADF/(1+DAnsm*ASI)+TNnsm*NSM/(1+DAnsm*ASI)+TAnsm*ADF']"
     },
     "execution_count": 97,
     "metadata": {},
     "output_type": "execute_result"
    }
   ],
   "source": [
    "direct_activation_term"
   ]
  },
  {
   "cell_type": "code",
   "execution_count": 90,
   "metadata": {},
   "outputs": [
    {
     "data": {
      "text/plain": "['TAnsm*ADF/(1+DAnsm*ASI)', 'TNnsm*NSM/(1+DAnsm*ASI)', 'TAnsm*ADF']"
     },
     "execution_count": 90,
     "metadata": {},
     "output_type": "execute_result"
    }
   ],
   "source": [
    "denominator_of_direct_activation"
   ]
  },
  {
   "cell_type": "code",
   "execution_count": 86,
   "metadata": {},
   "outputs": [
    {
     "data": {
      "text/plain": "{'TAnsm*ADF': '(1+DAnsm*ASI)', 'TNnsm*NSM': '(1+DAnsm*ASI)'}"
     },
     "execution_count": 86,
     "metadata": {},
     "output_type": "execute_result"
    }
   ],
   "source": [
    "indirect_inhibition_to_activatory_interactions_to_cell"
   ]
  },
  {
   "cell_type": "code",
   "execution_count": 75,
   "metadata": {},
   "outputs": [
    {
     "data": {
      "text/plain": "0"
     },
     "execution_count": 75,
     "metadata": {},
     "output_type": "execute_result"
    }
   ],
   "source": [
    "len('+'.join([]))"
   ]
  },
  {
   "cell_type": "code",
   "execution_count": 42,
   "metadata": {},
   "outputs": [
    {
     "data": {
      "text/plain": "['DAnsm*ASI']"
     },
     "execution_count": 42,
     "metadata": {},
     "output_type": "execute_result"
    }
   ],
   "source": [
    "\n",
    "list(indirect_inhibition_to_inhibitory_interactions_to_cell.keys())"
   ]
  },
  {
   "cell_type": "code",
   "execution_count": 61,
   "metadata": {},
   "outputs": [],
   "source": [
    "\n",
    "test=indirect_inhibition_to_inhibitory_interactions_to_cell"
   ]
  },
  {
   "cell_type": "code",
   "execution_count": 62,
   "metadata": {},
   "outputs": [
    {
     "data": {
      "text/plain": "dict_keys(['DAnsm*ASI'])"
     },
     "execution_count": 62,
     "metadata": {},
     "output_type": "execute_result"
    }
   ],
   "source": [
    "\n",
    "test.keys()"
   ]
  },
  {
   "cell_type": "code",
   "execution_count": 64,
   "metadata": {},
   "outputs": [
    {
     "data": {
      "text/plain": "'DAnsm*ASI/1'"
     },
     "execution_count": 64,
     "metadata": {},
     "output_type": "execute_result"
    }
   ],
   "source": [
    "'/'.join([list(test.keys())[0],list(test.values())[0]])"
   ]
  },
  {
   "cell_type": "code",
   "execution_count": null,
   "metadata": {},
   "outputs": [],
   "source": []
  },
  {
   "cell_type": "code",
   "execution_count": 37,
   "metadata": {},
   "outputs": [
    {
     "data": {
      "text/plain": "{'DAnsm*ASI': ['1']}"
     },
     "execution_count": 37,
     "metadata": {},
     "output_type": "execute_result"
    }
   ],
   "source": [
    "indirect_inhibition_to_inhibitory_interactions_to_cell"
   ]
  },
  {
   "cell_type": "code",
   "execution_count": 35,
   "metadata": {},
   "outputs": [
    {
     "data": {
      "text/plain": "{'TAnsm*ADF': '(1+DAnsm*ASI)', 'TNnsm*NSM': '(1+DAnsm*ASI)'}"
     },
     "execution_count": 35,
     "metadata": {},
     "output_type": "execute_result"
    }
   ],
   "source": [
    "indirect_inhibition_to_activatory_interactions_to_cell"
   ]
  },
  {
   "cell_type": "code",
   "execution_count": 18,
   "metadata": {},
   "outputs": [
    {
     "data": {
      "text/plain": "{'DAnsm*ASI': ['(1+', ')']}"
     },
     "execution_count": 18,
     "metadata": {},
     "output_type": "execute_result"
    }
   ],
   "source": [
    "indirect_inhibition_to_inhibitory_interactions_to_cell"
   ]
  },
  {
   "cell_type": "code",
   "execution_count": 23,
   "metadata": {},
   "outputs": [],
   "source": [
    "test={'a':['b','c','d']}"
   ]
  },
  {
   "cell_type": "code",
   "execution_count": 32,
   "metadata": {},
   "outputs": [
    {
     "data": {
      "text/plain": "'(b+c+d+1)'"
     },
     "execution_count": 32,
     "metadata": {},
     "output_type": "execute_result"
    }
   ],
   "source": [
    "'('+'+'.join(test['a']+['1'])+')'"
   ]
  },
  {
   "cell_type": "code",
   "execution_count": null,
   "metadata": {},
   "outputs": [],
   "source": []
  },
  {
   "cell_type": "code",
   "execution_count": null,
   "metadata": {},
   "outputs": [],
   "source": []
  },
  {
   "cell_type": "code",
   "execution_count": null,
   "metadata": {},
   "outputs": [],
   "source": []
  },
  {
   "cell_type": "code",
   "execution_count": null,
   "metadata": {},
   "outputs": [],
   "source": []
  },
  {
   "cell_type": "code",
   "execution_count": 57,
   "metadata": {},
   "outputs": [
    {
     "data": {
      "text/plain": "['TNnsm*NSM', 'DAnsm*ASI']"
     },
     "execution_count": 57,
     "metadata": {},
     "output_type": "execute_result"
    }
   ],
   "source": [
    "inhibitory_to_cell['Snsm']"
   ]
  },
  {
   "cell_type": "markdown",
   "execution_count": null,
   "metadata": {},
   "outputs": [],
   "source": [
    "Constraint: It should interact with connection to the cell.\n",
    "Only 1 connection to either the cell or to the self-regulation of the cell\n"
   ]
  },
  {
   "cell_type": "code",
   "execution_count": 54,
   "metadata": {},
   "outputs": [
    {
     "data": {
      "text/plain": "{'Snsm': ['TNnsm*NSM', 'DAnsm*ASI'], 'TAnsm*ADF': ['DAnsm*ASI']}"
     },
     "execution_count": 54,
     "metadata": {},
     "output_type": "execute_result"
    }
   ],
   "source": [
    "inhibitory_to_cell"
   ]
  },
  {
   "cell_type": "code",
   "execution_count": 45,
   "metadata": {},
   "outputs": [
    {
     "data": {
      "text/plain": "['Snsm', 'TAnsm*ADF']"
     },
     "execution_count": 45,
     "metadata": {},
     "output_type": "execute_result"
    }
   ],
   "source": [
    "combined_activatory_to_cell"
   ]
  },
  {
   "cell_type": "code",
   "execution_count": 49,
   "metadata": {},
   "outputs": [],
   "source": [
    "del temp"
   ]
  },
  {
   "cell_type": "code",
   "execution_count": 44,
   "metadata": {},
   "outputs": [
    {
     "data": {
      "text/plain": "[]"
     },
     "execution_count": 44,
     "metadata": {},
     "output_type": "execute_result"
    }
   ],
   "source": [
    "activatory_to_connections"
   ]
  },
  {
   "cell_type": "code",
   "execution_count": null,
   "metadata": {},
   "outputs": [],
   "source": []
  },
  {
   "cell_type": "code",
   "execution_count": null,
   "metadata": {},
   "outputs": [],
   "source": []
  },
  {
   "cell_type": "code",
   "execution_count": null,
   "metadata": {},
   "outputs": [],
   "source": []
  },
  {
   "cell_type": "code",
   "execution_count": null,
   "metadata": {},
   "outputs": [],
   "source": []
  },
  {
   "cell_type": "code",
   "execution_count": null,
   "metadata": {},
   "outputs": [],
   "source": []
  },
  {
   "cell_type": "code",
   "execution_count": null,
   "metadata": {},
   "outputs": [],
   "source": []
  }
 ]
}